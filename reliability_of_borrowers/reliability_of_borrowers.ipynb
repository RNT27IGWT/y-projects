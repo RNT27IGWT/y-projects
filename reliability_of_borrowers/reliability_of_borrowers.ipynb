{
 "cells": [
  {
   "cell_type": "markdown",
   "metadata": {},
   "source": [
    "# Проект \"Исследование надёжности заёмщиков\""
   ]
  },
  {
   "cell_type": "markdown",
   "metadata": {},
   "source": [
    "Данный проект был выполнен в ходе обучения в Яндекс.Практикуме. Профессии \"Аналитик данных\" / \"Специалист по Data Science\"."
   ]
  },
  {
   "cell_type": "markdown",
   "metadata": {},
   "source": [
    "# Описание проекта"
   ]
  },
  {
   "cell_type": "markdown",
   "metadata": {},
   "source": [
    "В этом проекте предстоит разобраться влияет ли семейное положение, количество детей клиента банка на факт погашения кредита в срок. Результаты исследования будут учтены при построении модели **кредитного скоринга** — системы оценки кредитоспособности (кредитных рисков) лица, основанной на численных статистических методах. Исходные данные — статистика о платёжеспособности клиентов. "
   ]
  },
  {
   "cell_type": "markdown",
   "metadata": {},
   "source": [
    "# Цель исследования"
   ]
  },
  {
   "cell_type": "markdown",
   "metadata": {},
   "source": [
    "- Определить есть ли завсисимость между количеством детей и возвратом кредита в срок;\n",
    "- Определить есть ли зависимость между семейным положением и возвратом кредита в срок;\n",
    "- Определить есть ли зависимость между уровнем дохода и возвратом кредита в срок;\n",
    "- Исследовать как цели, для которых берется кредит, влияют на его возврат в срок."
   ]
  },
  {
   "cell_type": "markdown",
   "metadata": {},
   "source": [
    "# Задачи исследования"
   ]
  },
  {
   "cell_type": "markdown",
   "metadata": {},
   "source": [
    "- Обзор данных;\n",
    "- Предобработка данных;\n",
    "- Создание вспомогательных датафреймов;\n",
    "- Создание функций для формирования столбцов таблиц по определенным условиям."
   ]
  },
  {
   "cell_type": "markdown",
   "metadata": {},
   "source": [
    "# Исходные данные"
   ]
  },
  {
   "cell_type": "markdown",
   "metadata": {},
   "source": [
    "Таблица \"reliability_of_borrowers\"\n",
    "\n",
    "- `children` — количество детей в семье\n",
    "- `days_employed` — общий трудовой стаж в днях\n",
    "- `dob_years` — возраст клиента в годах\n",
    "- `education` — уровень образования клиента\n",
    "- `education_id` — идентификатор уровня образования\n",
    "- `family_status` — семейное положение\n",
    "- `family_status_id` — идентификатор семейного положения\n",
    "- `gender` — пол клиента\n",
    "- `income_type` — тип занятости\n",
    "- `debt` — имел ли задолженность по возврату кредитов\n",
    "- `total_income` — ежемесячный доход\n",
    "- `purpose` — цель получения кредита"
   ]
  },
  {
   "cell_type": "markdown",
   "metadata": {},
   "source": [
    "## Используемые библиотеки"
   ]
  },
  {
   "cell_type": "markdown",
   "metadata": {},
   "source": []
  },
  {
   "cell_type": "markdown",
   "metadata": {},
   "source": [
    "## Обзор данных"
   ]
  },
  {
   "cell_type": "markdown",
   "metadata": {},
   "source": [
    "### Импорт библиотеки"
   ]
  },
  {
   "cell_type": "code",
   "execution_count": 2,
   "metadata": {},
   "outputs": [],
   "source": [
    "import pandas as pd"
   ]
  },
  {
   "cell_type": "markdown",
   "metadata": {},
   "source": [
    "### Выгрузка и анализ датасета с исходными данными"
   ]
  },
  {
   "cell_type": "code",
   "execution_count": 3,
   "metadata": {},
   "outputs": [
    {
     "data": {
      "text/html": [
       "<div>\n",
       "<style scoped>\n",
       "    .dataframe tbody tr th:only-of-type {\n",
       "        vertical-align: middle;\n",
       "    }\n",
       "\n",
       "    .dataframe tbody tr th {\n",
       "        vertical-align: top;\n",
       "    }\n",
       "\n",
       "    .dataframe thead th {\n",
       "        text-align: right;\n",
       "    }\n",
       "</style>\n",
       "<table border=\"1\" class=\"dataframe\">\n",
       "  <thead>\n",
       "    <tr style=\"text-align: right;\">\n",
       "      <th></th>\n",
       "      <th>children</th>\n",
       "      <th>days_employed</th>\n",
       "      <th>dob_years</th>\n",
       "      <th>education</th>\n",
       "      <th>education_id</th>\n",
       "      <th>family_status</th>\n",
       "      <th>family_status_id</th>\n",
       "      <th>gender</th>\n",
       "      <th>income_type</th>\n",
       "      <th>debt</th>\n",
       "      <th>total_income</th>\n",
       "      <th>purpose</th>\n",
       "    </tr>\n",
       "  </thead>\n",
       "  <tbody>\n",
       "    <tr>\n",
       "      <th>0</th>\n",
       "      <td>1</td>\n",
       "      <td>-8437.673028</td>\n",
       "      <td>42</td>\n",
       "      <td>высшее</td>\n",
       "      <td>0</td>\n",
       "      <td>женат / замужем</td>\n",
       "      <td>0</td>\n",
       "      <td>F</td>\n",
       "      <td>сотрудник</td>\n",
       "      <td>0</td>\n",
       "      <td>253875.639453</td>\n",
       "      <td>покупка жилья</td>\n",
       "    </tr>\n",
       "    <tr>\n",
       "      <th>1</th>\n",
       "      <td>1</td>\n",
       "      <td>-4024.803754</td>\n",
       "      <td>36</td>\n",
       "      <td>среднее</td>\n",
       "      <td>1</td>\n",
       "      <td>женат / замужем</td>\n",
       "      <td>0</td>\n",
       "      <td>F</td>\n",
       "      <td>сотрудник</td>\n",
       "      <td>0</td>\n",
       "      <td>112080.014102</td>\n",
       "      <td>приобретение автомобиля</td>\n",
       "    </tr>\n",
       "    <tr>\n",
       "      <th>2</th>\n",
       "      <td>0</td>\n",
       "      <td>-5623.422610</td>\n",
       "      <td>33</td>\n",
       "      <td>Среднее</td>\n",
       "      <td>1</td>\n",
       "      <td>женат / замужем</td>\n",
       "      <td>0</td>\n",
       "      <td>M</td>\n",
       "      <td>сотрудник</td>\n",
       "      <td>0</td>\n",
       "      <td>145885.952297</td>\n",
       "      <td>покупка жилья</td>\n",
       "    </tr>\n",
       "    <tr>\n",
       "      <th>3</th>\n",
       "      <td>3</td>\n",
       "      <td>-4124.747207</td>\n",
       "      <td>32</td>\n",
       "      <td>среднее</td>\n",
       "      <td>1</td>\n",
       "      <td>женат / замужем</td>\n",
       "      <td>0</td>\n",
       "      <td>M</td>\n",
       "      <td>сотрудник</td>\n",
       "      <td>0</td>\n",
       "      <td>267628.550329</td>\n",
       "      <td>дополнительное образование</td>\n",
       "    </tr>\n",
       "    <tr>\n",
       "      <th>4</th>\n",
       "      <td>0</td>\n",
       "      <td>340266.072047</td>\n",
       "      <td>53</td>\n",
       "      <td>среднее</td>\n",
       "      <td>1</td>\n",
       "      <td>гражданский брак</td>\n",
       "      <td>1</td>\n",
       "      <td>F</td>\n",
       "      <td>пенсионер</td>\n",
       "      <td>0</td>\n",
       "      <td>158616.077870</td>\n",
       "      <td>сыграть свадьбу</td>\n",
       "    </tr>\n",
       "    <tr>\n",
       "      <th>5</th>\n",
       "      <td>0</td>\n",
       "      <td>-926.185831</td>\n",
       "      <td>27</td>\n",
       "      <td>высшее</td>\n",
       "      <td>0</td>\n",
       "      <td>гражданский брак</td>\n",
       "      <td>1</td>\n",
       "      <td>M</td>\n",
       "      <td>компаньон</td>\n",
       "      <td>0</td>\n",
       "      <td>255763.565419</td>\n",
       "      <td>покупка жилья</td>\n",
       "    </tr>\n",
       "    <tr>\n",
       "      <th>6</th>\n",
       "      <td>0</td>\n",
       "      <td>-2879.202052</td>\n",
       "      <td>43</td>\n",
       "      <td>высшее</td>\n",
       "      <td>0</td>\n",
       "      <td>женат / замужем</td>\n",
       "      <td>0</td>\n",
       "      <td>F</td>\n",
       "      <td>компаньон</td>\n",
       "      <td>0</td>\n",
       "      <td>240525.971920</td>\n",
       "      <td>операции с жильем</td>\n",
       "    </tr>\n",
       "    <tr>\n",
       "      <th>7</th>\n",
       "      <td>0</td>\n",
       "      <td>-152.779569</td>\n",
       "      <td>50</td>\n",
       "      <td>СРЕДНЕЕ</td>\n",
       "      <td>1</td>\n",
       "      <td>женат / замужем</td>\n",
       "      <td>0</td>\n",
       "      <td>M</td>\n",
       "      <td>сотрудник</td>\n",
       "      <td>0</td>\n",
       "      <td>135823.934197</td>\n",
       "      <td>образование</td>\n",
       "    </tr>\n",
       "    <tr>\n",
       "      <th>8</th>\n",
       "      <td>2</td>\n",
       "      <td>-6929.865299</td>\n",
       "      <td>35</td>\n",
       "      <td>ВЫСШЕЕ</td>\n",
       "      <td>0</td>\n",
       "      <td>гражданский брак</td>\n",
       "      <td>1</td>\n",
       "      <td>F</td>\n",
       "      <td>сотрудник</td>\n",
       "      <td>0</td>\n",
       "      <td>95856.832424</td>\n",
       "      <td>на проведение свадьбы</td>\n",
       "    </tr>\n",
       "    <tr>\n",
       "      <th>9</th>\n",
       "      <td>0</td>\n",
       "      <td>-2188.756445</td>\n",
       "      <td>41</td>\n",
       "      <td>среднее</td>\n",
       "      <td>1</td>\n",
       "      <td>женат / замужем</td>\n",
       "      <td>0</td>\n",
       "      <td>M</td>\n",
       "      <td>сотрудник</td>\n",
       "      <td>0</td>\n",
       "      <td>144425.938277</td>\n",
       "      <td>покупка жилья для семьи</td>\n",
       "    </tr>\n",
       "  </tbody>\n",
       "</table>\n",
       "</div>"
      ],
      "text/plain": [
       "   children  days_employed  dob_years education  education_id  \\\n",
       "0         1   -8437.673028         42    высшее             0   \n",
       "1         1   -4024.803754         36   среднее             1   \n",
       "2         0   -5623.422610         33   Среднее             1   \n",
       "3         3   -4124.747207         32   среднее             1   \n",
       "4         0  340266.072047         53   среднее             1   \n",
       "5         0    -926.185831         27    высшее             0   \n",
       "6         0   -2879.202052         43    высшее             0   \n",
       "7         0    -152.779569         50   СРЕДНЕЕ             1   \n",
       "8         2   -6929.865299         35    ВЫСШЕЕ             0   \n",
       "9         0   -2188.756445         41   среднее             1   \n",
       "\n",
       "      family_status  family_status_id gender income_type  debt   total_income  \\\n",
       "0   женат / замужем                 0      F   сотрудник     0  253875.639453   \n",
       "1   женат / замужем                 0      F   сотрудник     0  112080.014102   \n",
       "2   женат / замужем                 0      M   сотрудник     0  145885.952297   \n",
       "3   женат / замужем                 0      M   сотрудник     0  267628.550329   \n",
       "4  гражданский брак                 1      F   пенсионер     0  158616.077870   \n",
       "5  гражданский брак                 1      M   компаньон     0  255763.565419   \n",
       "6   женат / замужем                 0      F   компаньон     0  240525.971920   \n",
       "7   женат / замужем                 0      M   сотрудник     0  135823.934197   \n",
       "8  гражданский брак                 1      F   сотрудник     0   95856.832424   \n",
       "9   женат / замужем                 0      M   сотрудник     0  144425.938277   \n",
       "\n",
       "                      purpose  \n",
       "0               покупка жилья  \n",
       "1     приобретение автомобиля  \n",
       "2               покупка жилья  \n",
       "3  дополнительное образование  \n",
       "4             сыграть свадьбу  \n",
       "5               покупка жилья  \n",
       "6           операции с жильем  \n",
       "7                 образование  \n",
       "8       на проведение свадьбы  \n",
       "9     покупка жилья для семьи  "
      ]
     },
     "execution_count": 3,
     "metadata": {},
     "output_type": "execute_result"
    }
   ],
   "source": [
    "data = pd.read_csv('C:/Dev/Jupyter/dist/projects/datasets/reliability_of_borrowers/reliability_of_borrowers.csv')\n",
    "data.head(10)"
   ]
  },
  {
   "cell_type": "code",
   "execution_count": 4,
   "metadata": {},
   "outputs": [
    {
     "name": "stdout",
     "output_type": "stream",
     "text": [
      "<class 'pandas.core.frame.DataFrame'>\n",
      "RangeIndex: 21525 entries, 0 to 21524\n",
      "Data columns (total 12 columns):\n",
      " #   Column            Non-Null Count  Dtype  \n",
      "---  ------            --------------  -----  \n",
      " 0   children          21525 non-null  int64  \n",
      " 1   days_employed     19351 non-null  float64\n",
      " 2   dob_years         21525 non-null  int64  \n",
      " 3   education         21525 non-null  object \n",
      " 4   education_id      21525 non-null  int64  \n",
      " 5   family_status     21525 non-null  object \n",
      " 6   family_status_id  21525 non-null  int64  \n",
      " 7   gender            21525 non-null  object \n",
      " 8   income_type       21525 non-null  object \n",
      " 9   debt              21525 non-null  int64  \n",
      " 10  total_income      19351 non-null  float64\n",
      " 11  purpose           21525 non-null  object \n",
      "dtypes: float64(2), int64(5), object(5)\n",
      "memory usage: 2.0+ MB\n"
     ]
    }
   ],
   "source": [
    "data.info()"
   ]
  },
  {
   "cell_type": "markdown",
   "metadata": {},
   "source": [
    "**Вывод**"
   ]
  },
  {
   "cell_type": "markdown",
   "metadata": {},
   "source": [
    "Анализ общей информации о датафрейме, наряду с количеством строк, столбцов, типа данных, наглядно показал наличие пропусков в столбцах 'days_employed' и 'total_income'."
   ]
  },
  {
   "cell_type": "markdown",
   "metadata": {},
   "source": [
    "## Предобработка данных"
   ]
  },
  {
   "cell_type": "markdown",
   "metadata": {},
   "source": [
    "### Обработка пропусков"
   ]
  },
  {
   "cell_type": "code",
   "execution_count": 2,
   "metadata": {},
   "outputs": [
    {
     "name": "stdout",
     "output_type": "stream",
     "text": [
      "Кол-во пропусков до обработки days_employed: 2174\n",
      "\n",
      "Кол-во пропусков после обработки days_employed: 0\n",
      "\n",
      "Кол-во пропусков до обработки total_income: 2174\n",
      "\n",
      "Кол-во пропусков после обработки total_income: 0\n",
      "\n",
      "<class 'pandas.core.frame.DataFrame'>\n",
      "RangeIndex: 21525 entries, 0 to 21524\n",
      "Data columns (total 12 columns):\n",
      "children            21525 non-null int64\n",
      "days_employed       21525 non-null float64\n",
      "dob_years           21525 non-null int64\n",
      "education           21525 non-null object\n",
      "education_id        21525 non-null int64\n",
      "family_status       21525 non-null object\n",
      "family_status_id    21525 non-null int64\n",
      "gender              21525 non-null object\n",
      "income_type         21525 non-null object\n",
      "debt                21525 non-null int64\n",
      "total_income        21525 non-null float64\n",
      "purpose             21525 non-null object\n",
      "dtypes: float64(2), int64(5), object(5)\n",
      "memory usage: 2.0+ MB\n"
     ]
    }
   ],
   "source": [
    "#обработаем пропуски в столбце 'days_employed'\n",
    "\n",
    "print('Кол-во пропусков до обработки days_employed:',data['days_employed'].isna().sum())\n",
    "print('')\n",
    "data.loc[data['days_employed'].isna(), 'days_employed'] = data['days_employed'].median()\n",
    "print('Кол-во пропусков после обработки days_employed:',data['days_employed'].isna().sum())\n",
    "\n",
    "print('')\n",
    "#обработаем пропуски в столбце 'total_income'\n",
    "\n",
    "print('Кол-во пропусков до обработки total_income:', data['total_income'].isna().sum())\n",
    "print('')\n",
    "data.loc[data['total_income'].isna(), 'total_income'] = data['total_income'].median()\n",
    "print('Кол-во пропусков после обработки total_income:', data['total_income'].isna().sum())\n",
    "print('')\n",
    "#убедимся в отсутствии пропусков \n",
    "data.info()"
   ]
  },
  {
   "cell_type": "code",
   "execution_count": 6,
   "metadata": {},
   "outputs": [
    {
     "name": "stdout",
     "output_type": "stream",
     "text": [
      "Пропусков: 1\n",
      "Пропусков: 0\n"
     ]
    }
   ],
   "source": [
    "# код для проверки\n",
    "data['total_income'] = data['total_income'].fillna(\n",
    "        data.groupby(['gender', 'family_status_id', 'education'])['total_income'].transform(func='median')\n",
    "    ).round(2)\n",
    "print('Пропусков:', data['total_income'].isna().sum())\n",
    "data['total_income'] = data['total_income'].fillna(data['total_income'].median()).round(2)\n",
    "print('Пропусков:', data['total_income'].isna().sum())"
   ]
  },
  {
   "cell_type": "markdown",
   "metadata": {},
   "source": [
    "**Вывод**"
   ]
  },
  {
   "cell_type": "markdown",
   "metadata": {},
   "source": [
    "Анализ общей информации о датафрейме, наряду с количеством строк, столбцов, типа данных, наглядно показал наличие пропусков в столбцах 'days_employed' и 'total_income'. Возможной причиной появления пропуска в данных может быть отсутствие данных у клиента при его анкетировании. Пропуски заполнены медианными значениями без учета групп посредством функции loc."
   ]
  },
  {
   "cell_type": "markdown",
   "metadata": {},
   "source": [
    "### Замена типа данных"
   ]
  },
  {
   "cell_type": "code",
   "execution_count": 4,
   "metadata": {},
   "outputs": [
    {
     "name": "stdout",
     "output_type": "stream",
     "text": [
      "<class 'pandas.core.frame.DataFrame'>\n",
      "RangeIndex: 21525 entries, 0 to 21524\n",
      "Data columns (total 12 columns):\n",
      "children            21525 non-null int64\n",
      "days_employed       21525 non-null int64\n",
      "dob_years           21525 non-null int64\n",
      "education           21525 non-null object\n",
      "education_id        21525 non-null int64\n",
      "family_status       21525 non-null object\n",
      "family_status_id    21525 non-null int64\n",
      "gender              21525 non-null object\n",
      "income_type         21525 non-null object\n",
      "debt                21525 non-null int64\n",
      "total_income        21525 non-null int64\n",
      "purpose             21525 non-null object\n",
      "dtypes: int64(7), object(5)\n",
      "memory usage: 2.0+ MB\n"
     ]
    }
   ],
   "source": [
    "#перевод значений столбца 'days_employed' из вещественного типа данных в целочисленный\n",
    "data['days_employed'] = data['days_employed'].astype('int')\n",
    "\n",
    "#перевод значений столбца 'total_income' из вещественного типа данных в целочисленный\n",
    "data['total_income'] = data['total_income'].astype('int')\n",
    "\n",
    "data.info()"
   ]
  },
  {
   "cell_type": "markdown",
   "metadata": {},
   "source": [
    "**Вывод**"
   ]
  },
  {
   "cell_type": "markdown",
   "metadata": {},
   "source": [
    "Метод изменения типа данных .astype() выглядит наиболее лаконичным для решения данной задачи."
   ]
  },
  {
   "cell_type": "markdown",
   "metadata": {},
   "source": [
    "### Обработка дубликатов"
   ]
  },
  {
   "cell_type": "code",
   "execution_count": 5,
   "metadata": {},
   "outputs": [
    {
     "data": {
      "text/html": [
       "<div>\n",
       "<style scoped>\n",
       "    .dataframe tbody tr th:only-of-type {\n",
       "        vertical-align: middle;\n",
       "    }\n",
       "\n",
       "    .dataframe tbody tr th {\n",
       "        vertical-align: top;\n",
       "    }\n",
       "\n",
       "    .dataframe thead th {\n",
       "        text-align: right;\n",
       "    }\n",
       "</style>\n",
       "<table border=\"1\" class=\"dataframe\">\n",
       "  <thead>\n",
       "    <tr style=\"text-align: right;\">\n",
       "      <th></th>\n",
       "      <th>children</th>\n",
       "      <th>days_employed</th>\n",
       "      <th>dob_years</th>\n",
       "      <th>education</th>\n",
       "      <th>education_id</th>\n",
       "      <th>family_status</th>\n",
       "      <th>family_status_id</th>\n",
       "      <th>gender</th>\n",
       "      <th>income_type</th>\n",
       "      <th>debt</th>\n",
       "      <th>total_income</th>\n",
       "      <th>purpose</th>\n",
       "    </tr>\n",
       "  </thead>\n",
       "  <tbody>\n",
       "    <tr>\n",
       "      <td>15892</td>\n",
       "      <td>0</td>\n",
       "      <td>-1203</td>\n",
       "      <td>23</td>\n",
       "      <td>среднее</td>\n",
       "      <td>1</td>\n",
       "      <td>Не женат / не замужем</td>\n",
       "      <td>4</td>\n",
       "      <td>F</td>\n",
       "      <td>сотрудник</td>\n",
       "      <td>0</td>\n",
       "      <td>145017</td>\n",
       "      <td>сделка с подержанным автомобилем</td>\n",
       "    </tr>\n",
       "    <tr>\n",
       "      <td>19321</td>\n",
       "      <td>0</td>\n",
       "      <td>-1203</td>\n",
       "      <td>23</td>\n",
       "      <td>среднее</td>\n",
       "      <td>1</td>\n",
       "      <td>Не женат / не замужем</td>\n",
       "      <td>4</td>\n",
       "      <td>F</td>\n",
       "      <td>сотрудник</td>\n",
       "      <td>0</td>\n",
       "      <td>145017</td>\n",
       "      <td>сделка с подержанным автомобилем</td>\n",
       "    </tr>\n",
       "    <tr>\n",
       "      <td>3452</td>\n",
       "      <td>0</td>\n",
       "      <td>-1203</td>\n",
       "      <td>29</td>\n",
       "      <td>высшее</td>\n",
       "      <td>0</td>\n",
       "      <td>женат / замужем</td>\n",
       "      <td>0</td>\n",
       "      <td>M</td>\n",
       "      <td>сотрудник</td>\n",
       "      <td>0</td>\n",
       "      <td>145017</td>\n",
       "      <td>покупка жилой недвижимости</td>\n",
       "    </tr>\n",
       "    <tr>\n",
       "      <td>18328</td>\n",
       "      <td>0</td>\n",
       "      <td>-1203</td>\n",
       "      <td>29</td>\n",
       "      <td>высшее</td>\n",
       "      <td>0</td>\n",
       "      <td>женат / замужем</td>\n",
       "      <td>0</td>\n",
       "      <td>M</td>\n",
       "      <td>сотрудник</td>\n",
       "      <td>0</td>\n",
       "      <td>145017</td>\n",
       "      <td>покупка жилой недвижимости</td>\n",
       "    </tr>\n",
       "    <tr>\n",
       "      <td>520</td>\n",
       "      <td>0</td>\n",
       "      <td>-1203</td>\n",
       "      <td>35</td>\n",
       "      <td>среднее</td>\n",
       "      <td>1</td>\n",
       "      <td>гражданский брак</td>\n",
       "      <td>1</td>\n",
       "      <td>F</td>\n",
       "      <td>сотрудник</td>\n",
       "      <td>0</td>\n",
       "      <td>145017</td>\n",
       "      <td>сыграть свадьбу</td>\n",
       "    </tr>\n",
       "    <tr>\n",
       "      <td>...</td>\n",
       "      <td>...</td>\n",
       "      <td>...</td>\n",
       "      <td>...</td>\n",
       "      <td>...</td>\n",
       "      <td>...</td>\n",
       "      <td>...</td>\n",
       "      <td>...</td>\n",
       "      <td>...</td>\n",
       "      <td>...</td>\n",
       "      <td>...</td>\n",
       "      <td>...</td>\n",
       "      <td>...</td>\n",
       "    </tr>\n",
       "    <tr>\n",
       "      <td>9238</td>\n",
       "      <td>2</td>\n",
       "      <td>-1203</td>\n",
       "      <td>34</td>\n",
       "      <td>среднее</td>\n",
       "      <td>1</td>\n",
       "      <td>женат / замужем</td>\n",
       "      <td>0</td>\n",
       "      <td>F</td>\n",
       "      <td>сотрудник</td>\n",
       "      <td>0</td>\n",
       "      <td>145017</td>\n",
       "      <td>покупка жилья для сдачи</td>\n",
       "    </tr>\n",
       "    <tr>\n",
       "      <td>9013</td>\n",
       "      <td>2</td>\n",
       "      <td>-1203</td>\n",
       "      <td>36</td>\n",
       "      <td>высшее</td>\n",
       "      <td>0</td>\n",
       "      <td>женат / замужем</td>\n",
       "      <td>0</td>\n",
       "      <td>F</td>\n",
       "      <td>госслужащий</td>\n",
       "      <td>0</td>\n",
       "      <td>145017</td>\n",
       "      <td>получение образования</td>\n",
       "    </tr>\n",
       "    <tr>\n",
       "      <td>14432</td>\n",
       "      <td>2</td>\n",
       "      <td>-1203</td>\n",
       "      <td>36</td>\n",
       "      <td>высшее</td>\n",
       "      <td>0</td>\n",
       "      <td>женат / замужем</td>\n",
       "      <td>0</td>\n",
       "      <td>F</td>\n",
       "      <td>госслужащий</td>\n",
       "      <td>0</td>\n",
       "      <td>145017</td>\n",
       "      <td>получение образования</td>\n",
       "    </tr>\n",
       "    <tr>\n",
       "      <td>11033</td>\n",
       "      <td>2</td>\n",
       "      <td>-1203</td>\n",
       "      <td>39</td>\n",
       "      <td>среднее</td>\n",
       "      <td>1</td>\n",
       "      <td>гражданский брак</td>\n",
       "      <td>1</td>\n",
       "      <td>F</td>\n",
       "      <td>сотрудник</td>\n",
       "      <td>0</td>\n",
       "      <td>145017</td>\n",
       "      <td>сыграть свадьбу</td>\n",
       "    </tr>\n",
       "    <tr>\n",
       "      <td>16902</td>\n",
       "      <td>2</td>\n",
       "      <td>-1203</td>\n",
       "      <td>39</td>\n",
       "      <td>среднее</td>\n",
       "      <td>1</td>\n",
       "      <td>гражданский брак</td>\n",
       "      <td>1</td>\n",
       "      <td>F</td>\n",
       "      <td>сотрудник</td>\n",
       "      <td>0</td>\n",
       "      <td>145017</td>\n",
       "      <td>сыграть свадьбу</td>\n",
       "    </tr>\n",
       "  </tbody>\n",
       "</table>\n",
       "<p>106 rows × 12 columns</p>\n",
       "</div>"
      ],
      "text/plain": [
       "       children  days_employed  dob_years education  education_id  \\\n",
       "15892         0          -1203         23   среднее             1   \n",
       "19321         0          -1203         23   среднее             1   \n",
       "3452          0          -1203         29    высшее             0   \n",
       "18328         0          -1203         29    высшее             0   \n",
       "520           0          -1203         35   среднее             1   \n",
       "...         ...            ...        ...       ...           ...   \n",
       "9238          2          -1203         34   среднее             1   \n",
       "9013          2          -1203         36    высшее             0   \n",
       "14432         2          -1203         36    высшее             0   \n",
       "11033         2          -1203         39   среднее             1   \n",
       "16902         2          -1203         39   среднее             1   \n",
       "\n",
       "               family_status  family_status_id gender  income_type  debt  \\\n",
       "15892  Не женат / не замужем                 4      F    сотрудник     0   \n",
       "19321  Не женат / не замужем                 4      F    сотрудник     0   \n",
       "3452         женат / замужем                 0      M    сотрудник     0   \n",
       "18328        женат / замужем                 0      M    сотрудник     0   \n",
       "520         гражданский брак                 1      F    сотрудник     0   \n",
       "...                      ...               ...    ...          ...   ...   \n",
       "9238         женат / замужем                 0      F    сотрудник     0   \n",
       "9013         женат / замужем                 0      F  госслужащий     0   \n",
       "14432        женат / замужем                 0      F  госслужащий     0   \n",
       "11033       гражданский брак                 1      F    сотрудник     0   \n",
       "16902       гражданский брак                 1      F    сотрудник     0   \n",
       "\n",
       "       total_income                           purpose  \n",
       "15892        145017  сделка с подержанным автомобилем  \n",
       "19321        145017  сделка с подержанным автомобилем  \n",
       "3452         145017        покупка жилой недвижимости  \n",
       "18328        145017        покупка жилой недвижимости  \n",
       "520          145017                   сыграть свадьбу  \n",
       "...             ...                               ...  \n",
       "9238         145017           покупка жилья для сдачи  \n",
       "9013         145017             получение образования  \n",
       "14432        145017             получение образования  \n",
       "11033        145017                   сыграть свадьбу  \n",
       "16902        145017                   сыграть свадьбу  \n",
       "\n",
       "[106 rows x 12 columns]"
      ]
     },
     "execution_count": 5,
     "metadata": {},
     "output_type": "execute_result"
    }
   ],
   "source": [
    "data[data.duplicated(keep = False)].sort_values(by = list(data.columns))"
   ]
  },
  {
   "cell_type": "code",
   "execution_count": 7,
   "metadata": {},
   "outputs": [
    {
     "name": "stdout",
     "output_type": "stream",
     "text": [
      "0\n"
     ]
    }
   ],
   "source": [
    "# код для проверки\n",
    "data = data.drop_duplicates().reset_index()\n",
    "print(data.duplicated().sum())"
   ]
  },
  {
   "cell_type": "markdown",
   "metadata": {},
   "source": [
    "**Вывод**"
   ]
  },
  {
   "cell_type": "markdown",
   "metadata": {},
   "source": [
    "Для удаления дубликатов в данных использовал предназначенный для этой операции метод. Причиной некорректных данных и наличия дубликатов мог послужить человеческий фактор, обусловленный отсутствием инструкции или рекомендаций по заполнению конкретной формы для клиента банка."
   ]
  },
  {
   "cell_type": "markdown",
   "metadata": {},
   "source": [
    "### Лемматизация"
   ]
  },
  {
   "cell_type": "code",
   "execution_count": 8,
   "metadata": {},
   "outputs": [
    {
     "name": "stdout",
     "output_type": "stream",
     "text": [
      "Counter({' ': 96, 'покупка': 10, 'недвижимость': 10, 'автомобиль': 9, 'образование': 9, 'жилье': 7, 'с': 5, 'операция': 4, 'на': 4, 'свой': 4, 'свадьба': 3, 'строительство': 3, 'получение': 3, 'высокий': 3, 'дополнительный': 2, 'для': 2, 'коммерческий': 2, 'жилой': 2, 'подержать': 2, 'заниматься': 2, 'сделка': 2, 'приобретение': 1, 'сыграть': 1, 'проведение': 1, 'семья': 1, 'собственный': 1, 'со': 1, 'профильный': 1, 'сдача': 1, 'ремонт': 1, '\\n': 1})\n"
     ]
    },
    {
     "data": {
      "text/plain": [
       "category\n",
       "автомобиль       4308\n",
       "недвижимость    10814\n",
       "образование      4014\n",
       "свадьба          2335\n",
       "Name: category, dtype: int64"
      ]
     },
     "execution_count": 8,
     "metadata": {},
     "output_type": "execute_result"
    }
   ],
   "source": [
    "from pymystem3 import Mystem#обращение к библиотеке pymystem3\n",
    "m = Mystem()\n",
    "lemmas = m.lemmatize(' '.join(data['purpose'].unique()))#лемматизация слов столбца 'purpose'\n",
    "\n",
    "from collections import Counter#обращение к счетчику\n",
    "print(Counter(lemmas))\n",
    "\n",
    "def credit_category(purpose):#обработка слов целей кредита, определение в категории \n",
    "    purp_lem = m.lemmatize(purpose)\n",
    "    if 'недвижимость' in purp_lem or 'жилье' in purp_lem:\n",
    "        return 'недвижимость'\n",
    "    if 'автомобиль' in purp_lem:\n",
    "        return 'автомобиль'\n",
    "    if 'образование' in purp_lem:\n",
    "        return 'образование'\n",
    "    if 'свадьба' in purp_lem:\n",
    "        return 'свадьба'\n",
    "    return 'прочее'\n",
    "data['category'] = data['purpose'].apply(credit_category)#результат функции присваиваем новому столбцу\n",
    "data.groupby('category')['category'].count()"
   ]
  },
  {
   "cell_type": "markdown",
   "metadata": {},
   "source": [
    "**Вывод**"
   ]
  },
  {
   "cell_type": "markdown",
   "metadata": {},
   "source": [
    "Для проведения лемматизации целей кредита обратимся к одной из библиотек с функцией лемматизации на русском языке — pymystem3. Результат лемматизации склеим вызовом метода join(). Для подсчета числа лемматизированных слов необходимо вызвать специальный контейнер Counter из модуля collections. Для унификации целей кредита стоит создать функцию, результат выполнения которой будет присвоен новому столбцу 'category' в таблице 'data'. Иными словами, при введении той или иной цели кредита в систему ей будет присвоена категория."
   ]
  },
  {
   "cell_type": "markdown",
   "metadata": {},
   "source": [
    "### Категоризация данных"
   ]
  },
  {
   "cell_type": "code",
   "execution_count": 9,
   "metadata": {},
   "outputs": [
    {
     "data": {
      "text/plain": [
       "category\n",
       "автомобиль       4308\n",
       "недвижимость    10814\n",
       "образование      4014\n",
       "свадьба          2335\n",
       "Name: category_cred, dtype: int64"
      ]
     },
     "metadata": {},
     "output_type": "display_data"
    }
   ],
   "source": [
    "def l_income(value):#функция для категоризации по уровню дохода\n",
    "    if value < 100000:\n",
    "        return 'низкий уровень дохода'\n",
    "    \n",
    "    if (value >= 100000) & (value < 250000):\n",
    "        return 'средний уровень дохода'\n",
    "    \n",
    "    if (value >= 250000) & (value < 500000):\n",
    "        return 'доход выше среднего'\n",
    "    \n",
    "    return 'высокий доход'\n",
    "\n",
    "data['income_level'] = data['total_income'].apply(l_income)\n",
    "data['income_level'].value_counts()\n",
    "\n",
    "#категоризация по уровню дохода посредством функции qcut\n",
    "data['income_level'] = pd.qcut(data['total_income'], [0, 0.25, 0.5, 0.75, 1], labels = ['низкий доход', 'средний доход', 'выше среднего', 'высокий доход'])\n",
    "data['income_level'].value_counts()\n",
    "\n",
    "#категоризация по семейному статусу\n",
    "data[['family_status_id', 'family_status']].drop_duplicates().set_index('family_status_id')\n",
    "\n",
    "#категоризация по уровню образования\n",
    "data['education'] = data['education'].str.lower()\n",
    "data['education'].value_counts()\n",
    "data = data.dropna().reset_index(drop=True)\n",
    "data[['education_id', 'education']].drop_duplicates().set_index('education_id')\n",
    "\n",
    "#категоризация по целям кредита\n",
    "def credit_category(purpose):\n",
    "    purp_lem = m.lemmatize(purpose)\n",
    "    if 'недвижимость' in purp_lem or 'жилье' in purp_lem:\n",
    "        return 'недвижимость'\n",
    "    \n",
    "    if 'автомобиль' in purp_lem:\n",
    "        return 'автомобиль'\n",
    "    \n",
    "    if 'образование' in purp_lem:\n",
    "        return 'образование'\n",
    "    \n",
    "    if 'свадьба' in purp_lem:\n",
    "        return 'свадьба'\n",
    "    \n",
    "    return 'прочее'\n",
    "\n",
    "data['category_cred'] = data['purpose'].apply(credit_category)\n",
    "display(data.groupby('category')['category_cred'].count())\n",
    "\n",
    "#категоризация по возрасту\n",
    "def l_income(value):\n",
    "    if value < 18:\n",
    "        return 'дети'\n",
    "    \n",
    "    if (value >= 18) & (value <= 44):\n",
    "        return 'молодой возраст'\n",
    "    \n",
    "    if (value >= 45) & (value <= 59):\n",
    "        return 'средний возраст'\n",
    "    \n",
    "    if (value >= 60) & (value <= 74):\n",
    "        return 'пожилой возраст'\n",
    "    \n",
    "    if (value >= 75) & (value <= 90):\n",
    "        return 'старческий возраст'\n",
    "\n",
    "#data['age'] = data['dob_years'].apply(l_income)\n",
    "#data['age'].value_counts()"
   ]
  },
  {
   "cell_type": "code",
   "execution_count": 10,
   "metadata": {},
   "outputs": [
    {
     "data": {
      "text/plain": [
       "средний доход    6428\n",
       "высокий доход    5368\n",
       "низкий доход     5368\n",
       "выше среднего    4307\n",
       "Name: income_level, dtype: int64"
      ]
     },
     "metadata": {},
     "output_type": "display_data"
    },
    {
     "data": {
      "text/plain": [
       "среднее                15188\n",
       "высшее                  5251\n",
       "неоконченное высшее      744\n",
       "начальное                282\n",
       "ученая степень             6\n",
       "Name: education, dtype: int64"
      ]
     },
     "metadata": {},
     "output_type": "display_data"
    },
    {
     "data": {
      "text/plain": [
       "недвижимость    10814\n",
       "автомобиль       4308\n",
       "образование      4014\n",
       "свадьба          2335\n",
       "Name: category_cred, dtype: int64"
      ]
     },
     "metadata": {},
     "output_type": "display_data"
    }
   ],
   "source": [
    "# код для проверки\n",
    "for column in ['income_level', 'education', 'category_cred']:\n",
    "    display(data[column].value_counts())"
   ]
  },
  {
   "cell_type": "markdown",
   "metadata": {},
   "source": [
    "**Вывод**"
   ]
  },
  {
   "cell_type": "markdown",
   "metadata": {},
   "source": [
    "Для получения наглядной общей картины о данных фрейма для ответа на дальнейшие вопросы стоит воспользоваться категоризацией, осуществляемой посредством разных методов."
   ]
  },
  {
   "cell_type": "markdown",
   "metadata": {},
   "source": [
    "## Ответы на впросы исследования"
   ]
  },
  {
   "cell_type": "markdown",
   "metadata": {},
   "source": [
    "**Есть ли зависимость между наличием детей и возвратом кредита в срок?**"
   ]
  },
  {
   "cell_type": "code",
   "execution_count": 11,
   "metadata": {},
   "outputs": [
    {
     "data": {
      "text/html": [
       "<div>\n",
       "<style scoped>\n",
       "    .dataframe tbody tr th:only-of-type {\n",
       "        vertical-align: middle;\n",
       "    }\n",
       "\n",
       "    .dataframe tbody tr th {\n",
       "        vertical-align: top;\n",
       "    }\n",
       "\n",
       "    .dataframe thead th {\n",
       "        text-align: right;\n",
       "    }\n",
       "</style>\n",
       "<table border=\"1\" class=\"dataframe\">\n",
       "  <thead>\n",
       "    <tr style=\"text-align: right;\">\n",
       "      <th></th>\n",
       "      <th>no_debt</th>\n",
       "      <th>debt</th>\n",
       "      <th>percent %</th>\n",
       "    </tr>\n",
       "    <tr>\n",
       "      <th>children_def</th>\n",
       "      <th></th>\n",
       "      <th></th>\n",
       "      <th></th>\n",
       "    </tr>\n",
       "  </thead>\n",
       "  <tbody>\n",
       "    <tr>\n",
       "      <td>дети есть</td>\n",
       "      <td>2275</td>\n",
       "      <td>233</td>\n",
       "      <td>0.092903</td>\n",
       "    </tr>\n",
       "    <tr>\n",
       "      <td>детей нет</td>\n",
       "      <td>13090</td>\n",
       "      <td>1064</td>\n",
       "      <td>0.075173</td>\n",
       "    </tr>\n",
       "  </tbody>\n",
       "</table>\n",
       "</div>"
      ],
      "text/plain": [
       "              no_debt  debt  percent %\n",
       "children_def                          \n",
       "дети есть        2275   233   0.092903\n",
       "детей нет       13090  1064   0.075173"
      ]
     },
     "metadata": {},
     "output_type": "display_data"
    }
   ],
   "source": [
    "def l_child(value):\n",
    "    if value < 1:\n",
    "        return 'детей нет'\n",
    "    \n",
    "    if value > 1:\n",
    "        return 'дети есть'\n",
    "    \n",
    "data['children_def'] = data['children'].apply(l_child)\n",
    "\n",
    "child_credit = data.pivot_table(index=['children_def'], columns='debt', values='total_income', aggfunc='count')\n",
    "child_credit.columns = ['no_debt', 'debt']\n",
    "child_credit = child_credit.fillna(0)\n",
    "child_credit['percent %'] = child_credit['debt'] / (child_credit['debt'] + child_credit['no_debt'])\n",
    "display(child_credit.sort_values(by='percent %', ascending=False))\n"
   ]
  },
  {
   "cell_type": "markdown",
   "metadata": {},
   "source": [
    "**Вывод**"
   ]
  },
  {
   "cell_type": "markdown",
   "metadata": {},
   "source": [
    "Когорта \"дети есть\" чаще обзаводится ещё и долгами по кредиту."
   ]
  },
  {
   "cell_type": "markdown",
   "metadata": {},
   "source": [
    "**Есть ли зависимость между семейным положением и возвратом кредита в срок?**"
   ]
  },
  {
   "cell_type": "code",
   "execution_count": 12,
   "metadata": {},
   "outputs": [
    {
     "data": {
      "text/html": [
       "<div>\n",
       "<style scoped>\n",
       "    .dataframe tbody tr th:only-of-type {\n",
       "        vertical-align: middle;\n",
       "    }\n",
       "\n",
       "    .dataframe tbody tr th {\n",
       "        vertical-align: top;\n",
       "    }\n",
       "\n",
       "    .dataframe thead th {\n",
       "        text-align: right;\n",
       "    }\n",
       "</style>\n",
       "<table border=\"1\" class=\"dataframe\">\n",
       "  <thead>\n",
       "    <tr style=\"text-align: right;\">\n",
       "      <th></th>\n",
       "      <th>no_debt</th>\n",
       "      <th>debt</th>\n",
       "      <th>percent %</th>\n",
       "    </tr>\n",
       "    <tr>\n",
       "      <th>family_status</th>\n",
       "      <th></th>\n",
       "      <th></th>\n",
       "      <th></th>\n",
       "    </tr>\n",
       "  </thead>\n",
       "  <tbody>\n",
       "    <tr>\n",
       "      <td>Не женат / не замужем</td>\n",
       "      <td>2536</td>\n",
       "      <td>274</td>\n",
       "      <td>0.097509</td>\n",
       "    </tr>\n",
       "    <tr>\n",
       "      <td>гражданский брак</td>\n",
       "      <td>3775</td>\n",
       "      <td>388</td>\n",
       "      <td>0.093202</td>\n",
       "    </tr>\n",
       "    <tr>\n",
       "      <td>женат / замужем</td>\n",
       "      <td>11413</td>\n",
       "      <td>931</td>\n",
       "      <td>0.075421</td>\n",
       "    </tr>\n",
       "    <tr>\n",
       "      <td>в разводе</td>\n",
       "      <td>1110</td>\n",
       "      <td>85</td>\n",
       "      <td>0.071130</td>\n",
       "    </tr>\n",
       "    <tr>\n",
       "      <td>вдовец / вдова</td>\n",
       "      <td>896</td>\n",
       "      <td>63</td>\n",
       "      <td>0.065693</td>\n",
       "    </tr>\n",
       "  </tbody>\n",
       "</table>\n",
       "</div>"
      ],
      "text/plain": [
       "                       no_debt  debt  percent %\n",
       "family_status                                  \n",
       "Не женат / не замужем     2536   274   0.097509\n",
       "гражданский брак          3775   388   0.093202\n",
       "женат / замужем          11413   931   0.075421\n",
       "в разводе                 1110    85   0.071130\n",
       "вдовец / вдова             896    63   0.065693"
      ]
     },
     "metadata": {},
     "output_type": "display_data"
    }
   ],
   "source": [
    "family_stat_credit = data.pivot_table(index=['family_status'], columns='debt', values='family_status_id', aggfunc='count')\n",
    "family_stat_credit.columns = ['no_debt', 'debt']\n",
    "family_stat_credit['percent %'] = family_stat_credit['debt'] / (family_stat_credit['debt'] + family_stat_credit['no_debt'])\n",
    "display(family_stat_credit.sort_values(by='percent %', ascending=False))"
   ]
  },
  {
   "cell_type": "markdown",
   "metadata": {},
   "source": [
    "**Вывод**"
   ]
  },
  {
   "cell_type": "markdown",
   "metadata": {},
   "source": [
    "Удивительно, однако, когорты \"Не женат / не замужем\" и \"гражданский брак\" чаще ходят в должниках нежели все остальные."
   ]
  },
  {
   "cell_type": "markdown",
   "metadata": {},
   "source": [
    "**Есть ли зависимость между уровнем дохода и возвратом кредита в срок?**"
   ]
  },
  {
   "cell_type": "code",
   "execution_count": 13,
   "metadata": {},
   "outputs": [
    {
     "data": {
      "text/html": [
       "<div>\n",
       "<style scoped>\n",
       "    .dataframe tbody tr th:only-of-type {\n",
       "        vertical-align: middle;\n",
       "    }\n",
       "\n",
       "    .dataframe tbody tr th {\n",
       "        vertical-align: top;\n",
       "    }\n",
       "\n",
       "    .dataframe thead th {\n",
       "        text-align: right;\n",
       "    }\n",
       "</style>\n",
       "<table border=\"1\" class=\"dataframe\">\n",
       "  <thead>\n",
       "    <tr style=\"text-align: right;\">\n",
       "      <th></th>\n",
       "      <th>no_debt</th>\n",
       "      <th>debt</th>\n",
       "      <th>percent %</th>\n",
       "    </tr>\n",
       "    <tr>\n",
       "      <th>income_level</th>\n",
       "      <th></th>\n",
       "      <th></th>\n",
       "      <th></th>\n",
       "    </tr>\n",
       "  </thead>\n",
       "  <tbody>\n",
       "    <tr>\n",
       "      <td>средний уровень дохода</td>\n",
       "      <td>13003</td>\n",
       "      <td>1193</td>\n",
       "      <td>0.084038</td>\n",
       "    </tr>\n",
       "    <tr>\n",
       "      <td>низкий уровень дохода</td>\n",
       "      <td>4109</td>\n",
       "      <td>354</td>\n",
       "      <td>0.079319</td>\n",
       "    </tr>\n",
       "    <tr>\n",
       "      <td>доход выше среднего</td>\n",
       "      <td>2410</td>\n",
       "      <td>180</td>\n",
       "      <td>0.069498</td>\n",
       "    </tr>\n",
       "    <tr>\n",
       "      <td>высокий доход</td>\n",
       "      <td>208</td>\n",
       "      <td>14</td>\n",
       "      <td>0.063063</td>\n",
       "    </tr>\n",
       "  </tbody>\n",
       "</table>\n",
       "</div>"
      ],
      "text/plain": [
       "                        no_debt  debt  percent %\n",
       "income_level                                    \n",
       "средний уровень дохода    13003  1193   0.084038\n",
       "низкий уровень дохода      4109   354   0.079319\n",
       "доход выше среднего        2410   180   0.069498\n",
       "высокий доход               208    14   0.063063"
      ]
     },
     "metadata": {},
     "output_type": "display_data"
    }
   ],
   "source": [
    "def l_income(value):#функция для категоризации по уровню дохода\n",
    "    if value < 100000:\n",
    "        return 'низкий уровень дохода'\n",
    "    \n",
    "    if (value >= 100000) & (value < 250000):\n",
    "        return 'средний уровень дохода'\n",
    "    \n",
    "    if (value >= 250000) & (value < 500000):\n",
    "        return 'доход выше среднего'\n",
    "    \n",
    "    return 'высокий доход'\n",
    "\n",
    "data['income_level'] = data['total_income'].apply(l_income)\n",
    "\n",
    "income_stat_credit = data.pivot_table(index=['income_level'], columns='debt', values='total_income', aggfunc='count')\n",
    "income_stat_credit.columns = ['no_debt', 'debt']\n",
    "income_stat_credit = income_stat_credit.fillna(0)\n",
    "income_stat_credit['percent %'] = income_stat_credit['debt'] / (income_stat_credit['debt'] + income_stat_credit['no_debt'])\n",
    "display(income_stat_credit.sort_values(by='percent %', ascending=False))"
   ]
  },
  {
   "cell_type": "markdown",
   "metadata": {},
   "source": [
    "**Вывод**"
   ]
  },
  {
   "cell_type": "markdown",
   "metadata": {},
   "source": [
    "Странно, но когорта \"средний уровень дохода\" опережает \"низкий уровеь дохода\" по проценту задолженностей. Возможно потому, что когорта \"средний уровень дохода\" склонна переоценивать свои силы, в то время как \"низкий уровеь дохода\" живет по средствам."
   ]
  },
  {
   "cell_type": "markdown",
   "metadata": {},
   "source": [
    "**Как разные цели кредита влияют на его возврат в срок?**"
   ]
  },
  {
   "cell_type": "code",
   "execution_count": 14,
   "metadata": {},
   "outputs": [
    {
     "data": {
      "text/html": [
       "<div>\n",
       "<style scoped>\n",
       "    .dataframe tbody tr th:only-of-type {\n",
       "        vertical-align: middle;\n",
       "    }\n",
       "\n",
       "    .dataframe tbody tr th {\n",
       "        vertical-align: top;\n",
       "    }\n",
       "\n",
       "    .dataframe thead th {\n",
       "        text-align: right;\n",
       "    }\n",
       "</style>\n",
       "<table border=\"1\" class=\"dataframe\">\n",
       "  <thead>\n",
       "    <tr style=\"text-align: right;\">\n",
       "      <th></th>\n",
       "      <th>no_debt</th>\n",
       "      <th>debt</th>\n",
       "      <th>percent %</th>\n",
       "    </tr>\n",
       "    <tr>\n",
       "      <th>category_cred</th>\n",
       "      <th></th>\n",
       "      <th></th>\n",
       "      <th></th>\n",
       "    </tr>\n",
       "  </thead>\n",
       "  <tbody>\n",
       "    <tr>\n",
       "      <td>автомобиль</td>\n",
       "      <td>3905</td>\n",
       "      <td>403</td>\n",
       "      <td>0.093547</td>\n",
       "    </tr>\n",
       "    <tr>\n",
       "      <td>образование</td>\n",
       "      <td>3644</td>\n",
       "      <td>370</td>\n",
       "      <td>0.092177</td>\n",
       "    </tr>\n",
       "    <tr>\n",
       "      <td>свадьба</td>\n",
       "      <td>2149</td>\n",
       "      <td>186</td>\n",
       "      <td>0.079657</td>\n",
       "    </tr>\n",
       "    <tr>\n",
       "      <td>недвижимость</td>\n",
       "      <td>10032</td>\n",
       "      <td>782</td>\n",
       "      <td>0.072314</td>\n",
       "    </tr>\n",
       "  </tbody>\n",
       "</table>\n",
       "</div>"
      ],
      "text/plain": [
       "               no_debt  debt  percent %\n",
       "category_cred                          \n",
       "автомобиль        3905   403   0.093547\n",
       "образование       3644   370   0.092177\n",
       "свадьба           2149   186   0.079657\n",
       "недвижимость     10032   782   0.072314"
      ]
     },
     "metadata": {},
     "output_type": "display_data"
    }
   ],
   "source": [
    "def credit_category(purpose):\n",
    "    purp_lem = m.lemmatize(purpose)\n",
    "    if 'недвижимость' in purp_lem or 'жилье' in purp_lem:\n",
    "        return 'недвижимость'\n",
    "    if 'автомобиль' in purp_lem:\n",
    "        return 'автомобиль'\n",
    "    if 'образование' in purp_lem:\n",
    "        return 'образование'\n",
    "    if 'свадьба' in purp_lem:\n",
    "        return 'свадьба'\n",
    "    return 'прочее'\n",
    "data['category_cred'] = data['purpose'].apply(credit_category)\n",
    "\n",
    "purpose_stat_credit = data.pivot_table(index=['category_cred'], columns='debt', values='total_income', aggfunc='count')\n",
    "purpose_stat_credit.columns = ['no_debt', 'debt']\n",
    "purpose_stat_credit = purpose_stat_credit.fillna(0)\n",
    "purpose_stat_credit['percent %'] = purpose_stat_credit['debt'] / (purpose_stat_credit['debt'] + purpose_stat_credit['no_debt'])\n",
    "display(purpose_stat_credit.sort_values(by='percent %', ascending=False))"
   ]
  },
  {
   "cell_type": "markdown",
   "metadata": {},
   "source": [
    "**Вывод**"
   ]
  },
  {
   "cell_type": "markdown",
   "metadata": {},
   "source": [
    "Результат показывает, что у когорты  с целью \"автомобиль\" все деньги уходят на бензин, а у когорты \"образование\" на покупку курсовых, зачетов и экзаменов."
   ]
  },
  {
   "cell_type": "markdown",
   "metadata": {},
   "source": [
    "## Общий вывод"
   ]
  },
  {
   "cell_type": "markdown",
   "metadata": {},
   "source": [
    "Результаты проведенного исследования показывают, что семейное положение и наличие детей у клиента оказывают влияние на факт погашения кредита."
   ]
  }
 ],
 "metadata": {
  "ExecuteTimeLog": [
   {
    "duration": 877,
    "start_time": "2021-12-03T08:17:06.009Z"
   },
   {
    "duration": 100,
    "start_time": "2021-12-03T08:17:35.108Z"
   },
   {
    "duration": 76,
    "start_time": "2021-12-03T08:17:58.730Z"
   },
   {
    "duration": 75,
    "start_time": "2021-12-03T08:19:37.952Z"
   },
   {
    "duration": 75,
    "start_time": "2021-12-03T08:20:08.884Z"
   },
   {
    "duration": 65,
    "start_time": "2021-12-03T08:21:26.108Z"
   },
   {
    "duration": 75,
    "start_time": "2021-12-03T08:21:41.892Z"
   },
   {
    "duration": 81,
    "start_time": "2021-12-03T08:21:49.969Z"
   },
   {
    "duration": 89,
    "start_time": "2021-12-03T08:24:25.970Z"
   },
   {
    "duration": 11,
    "start_time": "2021-12-03T08:36:12.480Z"
   },
   {
    "duration": 7,
    "start_time": "2021-12-03T08:36:45.812Z"
   },
   {
    "duration": 565,
    "start_time": "2021-12-03T08:37:58.911Z"
   },
   {
    "duration": 792,
    "start_time": "2021-12-03T08:38:07.255Z"
   },
   {
    "duration": 594,
    "start_time": "2021-12-03T08:47:28.971Z"
   },
   {
    "duration": 7,
    "start_time": "2021-12-03T08:47:38.512Z"
   },
   {
    "duration": 7,
    "start_time": "2021-12-03T08:48:56.247Z"
   },
   {
    "duration": 14,
    "start_time": "2021-12-03T08:53:13.341Z"
   },
   {
    "duration": 12,
    "start_time": "2021-12-03T08:56:13.895Z"
   },
   {
    "duration": 426,
    "start_time": "2021-12-03T08:56:30.536Z"
   },
   {
    "duration": 11,
    "start_time": "2021-12-03T08:58:21.056Z"
   },
   {
    "duration": 12,
    "start_time": "2021-12-03T09:01:30.411Z"
   },
   {
    "duration": 95,
    "start_time": "2021-12-03T09:01:37.608Z"
   },
   {
    "duration": 14,
    "start_time": "2021-12-03T09:01:46.144Z"
   },
   {
    "duration": 124,
    "start_time": "2021-12-03T09:04:51.282Z"
   },
   {
    "duration": 16,
    "start_time": "2021-12-03T09:04:58.741Z"
   },
   {
    "duration": 87,
    "start_time": "2021-12-03T09:05:08.307Z"
   },
   {
    "duration": 19,
    "start_time": "2021-12-03T09:05:14.047Z"
   },
   {
    "duration": 13,
    "start_time": "2021-12-03T09:16:08.611Z"
   },
   {
    "duration": 84,
    "start_time": "2021-12-03T09:17:04.380Z"
   },
   {
    "duration": 15,
    "start_time": "2021-12-03T09:17:07.889Z"
   },
   {
    "duration": 15,
    "start_time": "2021-12-03T09:17:27.002Z"
   },
   {
    "duration": 88,
    "start_time": "2021-12-03T09:18:06.196Z"
   },
   {
    "duration": 23,
    "start_time": "2021-12-03T09:18:09.441Z"
   },
   {
    "duration": 22,
    "start_time": "2021-12-03T09:28:02.115Z"
   },
   {
    "duration": 98,
    "start_time": "2021-12-03T09:55:02.438Z"
   },
   {
    "duration": 33,
    "start_time": "2021-12-03T09:55:05.675Z"
   },
   {
    "duration": 33,
    "start_time": "2021-12-03T09:55:56.628Z"
   },
   {
    "duration": 36,
    "start_time": "2021-12-03T09:56:50.372Z"
   },
   {
    "duration": 37,
    "start_time": "2021-12-03T09:57:02.566Z"
   },
   {
    "duration": 29,
    "start_time": "2021-12-03T09:57:15.038Z"
   },
   {
    "duration": 28,
    "start_time": "2021-12-03T09:57:37.174Z"
   },
   {
    "duration": 122,
    "start_time": "2021-12-03T09:57:56.756Z"
   },
   {
    "duration": 27,
    "start_time": "2021-12-03T09:58:04.043Z"
   },
   {
    "duration": 27,
    "start_time": "2021-12-03T09:58:26.420Z"
   },
   {
    "duration": 34,
    "start_time": "2021-12-03T09:58:41.032Z"
   },
   {
    "duration": 28,
    "start_time": "2021-12-03T09:58:54.980Z"
   },
   {
    "duration": 88,
    "start_time": "2021-12-03T09:59:13.581Z"
   },
   {
    "duration": 28,
    "start_time": "2021-12-03T09:59:15.801Z"
   },
   {
    "duration": 372,
    "start_time": "2021-12-03T10:32:01.390Z"
   },
   {
    "duration": 88,
    "start_time": "2021-12-03T10:32:08.806Z"
   },
   {
    "duration": 30,
    "start_time": "2021-12-03T10:32:11.059Z"
   },
   {
    "duration": 348,
    "start_time": "2021-12-03T10:32:14.316Z"
   },
   {
    "duration": 6,
    "start_time": "2021-12-03T10:32:28.700Z"
   },
   {
    "duration": 9,
    "start_time": "2021-12-03T10:35:59.692Z"
   },
   {
    "duration": 17,
    "start_time": "2021-12-03T10:36:25.924Z"
   },
   {
    "duration": 389,
    "start_time": "2021-12-03T11:00:45.504Z"
   },
   {
    "duration": 342,
    "start_time": "2021-12-03T11:00:59.255Z"
   },
   {
    "duration": 30,
    "start_time": "2021-12-03T11:01:33.366Z"
   },
   {
    "duration": 22,
    "start_time": "2021-12-03T11:01:39.628Z"
   },
   {
    "duration": 5,
    "start_time": "2021-12-03T11:04:08.569Z"
   },
   {
    "duration": 6,
    "start_time": "2021-12-03T11:04:25.765Z"
   },
   {
    "duration": 7,
    "start_time": "2021-12-03T11:05:21.551Z"
   },
   {
    "duration": 6,
    "start_time": "2021-12-03T11:05:38.941Z"
   },
   {
    "duration": 8544,
    "start_time": "2021-12-03T11:06:24.671Z"
   },
   {
    "duration": 8,
    "start_time": "2021-12-03T11:06:42.257Z"
   },
   {
    "duration": 20,
    "start_time": "2021-12-03T11:08:42.108Z"
   },
   {
    "duration": 703,
    "start_time": "2021-12-03T11:13:10.101Z"
   },
   {
    "duration": 40,
    "start_time": "2021-12-03T11:13:18.009Z"
   },
   {
    "duration": 55,
    "start_time": "2021-12-03T11:14:55.095Z"
   },
   {
    "duration": 49,
    "start_time": "2021-12-03T11:15:31.685Z"
   },
   {
    "duration": 889,
    "start_time": "2021-12-04T12:30:39.121Z"
   },
   {
    "duration": 41,
    "start_time": "2021-12-04T12:30:40.013Z"
   },
   {
    "duration": 6,
    "start_time": "2021-12-04T12:30:40.057Z"
   },
   {
    "duration": 107,
    "start_time": "2021-12-04T12:30:40.066Z"
   },
   {
    "duration": 80,
    "start_time": "2021-12-04T12:30:46.841Z"
   },
   {
    "duration": 96,
    "start_time": "2021-12-04T12:52:50.323Z"
   },
   {
    "duration": 406,
    "start_time": "2021-12-04T12:58:12.987Z"
   },
   {
    "duration": 433,
    "start_time": "2021-12-04T12:59:19.030Z"
   },
   {
    "duration": 100,
    "start_time": "2021-12-04T13:04:52.362Z"
   },
   {
    "duration": 28,
    "start_time": "2021-12-04T13:04:52.465Z"
   },
   {
    "duration": 48,
    "start_time": "2021-12-04T13:04:52.497Z"
   },
   {
    "duration": 102,
    "start_time": "2021-12-04T13:04:52.548Z"
   },
   {
    "duration": 347,
    "start_time": "2021-12-04T13:04:52.652Z"
   },
   {
    "duration": 303,
    "start_time": "2021-12-04T13:07:44.208Z"
   },
   {
    "duration": 98,
    "start_time": "2021-12-04T13:08:25.479Z"
   },
   {
    "duration": 551,
    "start_time": "2021-12-04T13:10:17.281Z"
   },
   {
    "duration": 310,
    "start_time": "2021-12-04T13:11:56.059Z"
   },
   {
    "duration": 344,
    "start_time": "2021-12-04T13:17:18.370Z"
   },
   {
    "duration": 358,
    "start_time": "2021-12-04T13:25:25.469Z"
   },
   {
    "duration": 285,
    "start_time": "2021-12-04T13:35:03.640Z"
   },
   {
    "duration": 596,
    "start_time": "2021-12-04T13:35:18.759Z"
   },
   {
    "duration": 915,
    "start_time": "2021-12-04T13:36:26.277Z"
   },
   {
    "duration": 5174,
    "start_time": "2021-12-04T13:37:07.895Z"
   },
   {
    "duration": 4487,
    "start_time": "2021-12-04T13:37:35.881Z"
   },
   {
    "duration": 100,
    "start_time": "2021-12-04T13:38:47.351Z"
   },
   {
    "duration": 4482,
    "start_time": "2021-12-04T13:38:55.637Z"
   },
   {
    "duration": 976,
    "start_time": "2021-12-04T13:39:05.000Z"
   },
   {
    "duration": 4613,
    "start_time": "2021-12-04T13:39:12.435Z"
   },
   {
    "duration": 4653,
    "start_time": "2021-12-04T13:39:32.086Z"
   },
   {
    "duration": 4494,
    "start_time": "2021-12-04T13:39:44.735Z"
   },
   {
    "duration": 4729,
    "start_time": "2021-12-04T13:40:12.688Z"
   },
   {
    "duration": 455,
    "start_time": "2021-12-04T14:41:20.705Z"
   },
   {
    "duration": 437,
    "start_time": "2021-12-04T14:41:42.957Z"
   },
   {
    "duration": 24,
    "start_time": "2021-12-04T14:41:49.651Z"
   },
   {
    "duration": 6,
    "start_time": "2021-12-04T14:58:59.480Z"
   },
   {
    "duration": 6,
    "start_time": "2021-12-04T14:59:08.310Z"
   },
   {
    "duration": 287,
    "start_time": "2021-12-04T14:59:49.090Z"
   },
   {
    "duration": 285,
    "start_time": "2021-12-04T15:00:29.400Z"
   },
   {
    "duration": 299,
    "start_time": "2021-12-04T15:00:42.946Z"
   },
   {
    "duration": 281,
    "start_time": "2021-12-04T15:00:55.320Z"
   },
   {
    "duration": 493,
    "start_time": "2021-12-04T15:01:10.549Z"
   },
   {
    "duration": 13,
    "start_time": "2021-12-04T15:01:27.999Z"
   },
   {
    "duration": 380,
    "start_time": "2021-12-04T15:02:18.662Z"
   },
   {
    "duration": 19,
    "start_time": "2021-12-04T15:02:24.199Z"
   },
   {
    "duration": 27,
    "start_time": "2021-12-04T15:03:23.469Z"
   },
   {
    "duration": 23,
    "start_time": "2021-12-04T15:03:34.999Z"
   },
   {
    "duration": 19,
    "start_time": "2021-12-04T15:17:58.439Z"
   },
   {
    "duration": 1072,
    "start_time": "2021-12-05T08:09:46.676Z"
   },
   {
    "duration": 34,
    "start_time": "2021-12-05T08:09:47.752Z"
   },
   {
    "duration": 52,
    "start_time": "2021-12-05T08:09:47.790Z"
   },
   {
    "duration": 101,
    "start_time": "2021-12-05T08:09:47.844Z"
   },
   {
    "duration": 4436,
    "start_time": "2021-12-05T08:09:47.948Z"
   },
   {
    "duration": 20,
    "start_time": "2021-12-05T08:09:52.386Z"
   },
   {
    "duration": 19,
    "start_time": "2021-12-05T08:09:52.838Z"
   },
   {
    "duration": 362,
    "start_time": "2021-12-05T08:17:37.758Z"
   },
   {
    "duration": 16,
    "start_time": "2021-12-05T08:18:16.258Z"
   },
   {
    "duration": 18,
    "start_time": "2021-12-05T08:24:49.754Z"
   },
   {
    "duration": 298,
    "start_time": "2021-12-05T08:26:29.921Z"
   },
   {
    "duration": 702,
    "start_time": "2021-12-05T08:26:45.167Z"
   },
   {
    "duration": 24,
    "start_time": "2021-12-05T08:27:26.623Z"
   },
   {
    "duration": 23,
    "start_time": "2021-12-05T08:29:08.104Z"
   },
   {
    "duration": 23,
    "start_time": "2021-12-05T08:29:42.208Z"
   },
   {
    "duration": 22,
    "start_time": "2021-12-05T08:29:55.864Z"
   },
   {
    "duration": 22,
    "start_time": "2021-12-05T08:30:18.657Z"
   },
   {
    "duration": 32,
    "start_time": "2021-12-05T08:31:39.815Z"
   },
   {
    "duration": 32,
    "start_time": "2021-12-05T08:31:41.782Z"
   },
   {
    "duration": 23,
    "start_time": "2021-12-05T08:40:06.408Z"
   },
   {
    "duration": 29,
    "start_time": "2021-12-05T08:40:26.042Z"
   },
   {
    "duration": 30,
    "start_time": "2021-12-05T08:40:50.203Z"
   },
   {
    "duration": 178,
    "start_time": "2021-12-05T08:56:32.370Z"
   },
   {
    "duration": 28,
    "start_time": "2021-12-05T08:56:36.001Z"
   },
   {
    "duration": 25,
    "start_time": "2021-12-05T08:58:31.549Z"
   },
   {
    "duration": 507,
    "start_time": "2021-12-05T09:02:04.293Z"
   },
   {
    "duration": 42,
    "start_time": "2021-12-05T09:03:19.508Z"
   },
   {
    "duration": 46,
    "start_time": "2021-12-05T09:04:05.990Z"
   },
   {
    "duration": 53,
    "start_time": "2021-12-05T09:04:31.978Z"
   },
   {
    "duration": 45,
    "start_time": "2021-12-05T09:04:50.690Z"
   },
   {
    "duration": 44,
    "start_time": "2021-12-05T09:06:13.930Z"
   },
   {
    "duration": 313,
    "start_time": "2021-12-05T09:07:27.110Z"
   },
   {
    "duration": 45,
    "start_time": "2021-12-05T09:09:05.459Z"
   },
   {
    "duration": 30,
    "start_time": "2021-12-05T09:16:09.635Z"
   },
   {
    "duration": 106,
    "start_time": "2021-12-05T09:18:08.217Z"
   },
   {
    "duration": 114,
    "start_time": "2021-12-05T09:18:30.665Z"
   },
   {
    "duration": 34,
    "start_time": "2021-12-05T09:18:49.113Z"
   },
   {
    "duration": 41,
    "start_time": "2021-12-05T09:20:22.695Z"
   },
   {
    "duration": 52,
    "start_time": "2021-12-05T09:23:26.063Z"
   },
   {
    "duration": 46,
    "start_time": "2021-12-05T09:24:26.910Z"
   },
   {
    "duration": 396,
    "start_time": "2021-12-05T09:25:41.813Z"
   },
   {
    "duration": 45,
    "start_time": "2021-12-05T09:25:50.942Z"
   },
   {
    "duration": 49,
    "start_time": "2021-12-05T09:26:03.828Z"
   },
   {
    "duration": 37,
    "start_time": "2021-12-05T09:26:39.317Z"
   },
   {
    "duration": 48,
    "start_time": "2021-12-05T09:26:47.956Z"
   },
   {
    "duration": 39,
    "start_time": "2021-12-05T09:27:03.620Z"
   },
   {
    "duration": 36,
    "start_time": "2021-12-05T09:27:36.995Z"
   },
   {
    "duration": 45,
    "start_time": "2021-12-05T09:27:51.452Z"
   },
   {
    "duration": 52,
    "start_time": "2021-12-05T09:29:24.366Z"
   },
   {
    "duration": 41,
    "start_time": "2021-12-05T09:31:28.989Z"
   },
   {
    "duration": 54,
    "start_time": "2021-12-05T09:33:06.336Z"
   },
   {
    "duration": 310,
    "start_time": "2021-12-05T09:34:58.795Z"
   },
   {
    "duration": 39,
    "start_time": "2021-12-05T09:35:05.386Z"
   },
   {
    "duration": 1395,
    "start_time": "2021-12-05T09:35:32.123Z"
   },
   {
    "duration": 36,
    "start_time": "2021-12-05T09:35:41.191Z"
   },
   {
    "duration": 365,
    "start_time": "2021-12-05T09:35:57.378Z"
   },
   {
    "duration": 41,
    "start_time": "2021-12-05T09:37:03.901Z"
   },
   {
    "duration": 41,
    "start_time": "2021-12-05T09:38:45.852Z"
   },
   {
    "duration": 37,
    "start_time": "2021-12-05T09:41:41.051Z"
   },
   {
    "duration": 40,
    "start_time": "2021-12-05T09:41:58.103Z"
   },
   {
    "duration": 41,
    "start_time": "2021-12-05T09:42:10.973Z"
   },
   {
    "duration": 42,
    "start_time": "2021-12-05T09:42:33.011Z"
   },
   {
    "duration": 38,
    "start_time": "2021-12-05T09:42:49.172Z"
   },
   {
    "duration": 41,
    "start_time": "2021-12-05T09:42:57.469Z"
   },
   {
    "duration": 40,
    "start_time": "2021-12-05T09:43:19.276Z"
   },
   {
    "duration": 38,
    "start_time": "2021-12-05T09:43:31.214Z"
   },
   {
    "duration": 38,
    "start_time": "2021-12-05T09:43:43.018Z"
   },
   {
    "duration": 971,
    "start_time": "2021-12-05T09:44:51.751Z"
   },
   {
    "duration": 109,
    "start_time": "2021-12-05T09:45:10.741Z"
   },
   {
    "duration": 34,
    "start_time": "2021-12-05T09:45:10.853Z"
   },
   {
    "duration": 52,
    "start_time": "2021-12-05T09:45:10.890Z"
   },
   {
    "duration": 100,
    "start_time": "2021-12-05T09:45:10.945Z"
   },
   {
    "duration": 4755,
    "start_time": "2021-12-05T09:45:11.049Z"
   },
   {
    "duration": 3876,
    "start_time": "2021-12-05T09:45:23.492Z"
   },
   {
    "duration": 317,
    "start_time": "2021-12-05T09:51:10.989Z"
   },
   {
    "duration": 5027,
    "start_time": "2021-12-05T09:51:38.469Z"
   },
   {
    "duration": 51,
    "start_time": "2021-12-05T11:12:43.659Z"
   },
   {
    "duration": 51,
    "start_time": "2021-12-05T11:17:30.847Z"
   },
   {
    "duration": 29,
    "start_time": "2021-12-05T11:17:51.459Z"
   },
   {
    "duration": 44,
    "start_time": "2021-12-05T11:19:23.515Z"
   },
   {
    "duration": 30,
    "start_time": "2021-12-05T11:19:36.203Z"
   },
   {
    "duration": 33,
    "start_time": "2021-12-05T11:19:51.245Z"
   },
   {
    "duration": 33,
    "start_time": "2021-12-05T11:20:31.241Z"
   },
   {
    "duration": 301,
    "start_time": "2021-12-05T11:21:14.274Z"
   },
   {
    "duration": 31,
    "start_time": "2021-12-05T11:21:26.906Z"
   },
   {
    "duration": 49,
    "start_time": "2021-12-05T11:23:19.964Z"
   },
   {
    "duration": 48,
    "start_time": "2021-12-05T11:23:36.459Z"
   },
   {
    "duration": 30,
    "start_time": "2021-12-05T11:24:33.460Z"
   },
   {
    "duration": 90,
    "start_time": "2021-12-05T11:24:38.192Z"
   },
   {
    "duration": 50,
    "start_time": "2021-12-05T11:24:38.285Z"
   },
   {
    "duration": 19,
    "start_time": "2021-12-05T11:24:38.339Z"
   },
   {
    "duration": 139,
    "start_time": "2021-12-05T11:24:38.361Z"
   },
   {
    "duration": 4803,
    "start_time": "2021-12-05T11:24:38.503Z"
   },
   {
    "duration": 4074,
    "start_time": "2021-12-05T11:24:43.309Z"
   },
   {
    "duration": 48,
    "start_time": "2021-12-05T11:24:47.385Z"
   },
   {
    "duration": 30,
    "start_time": "2021-12-05T11:24:47.437Z"
   },
   {
    "duration": 30,
    "start_time": "2021-12-05T11:24:47.534Z"
   },
   {
    "duration": 319,
    "start_time": "2021-12-05T11:25:43.943Z"
   },
   {
    "duration": 44,
    "start_time": "2021-12-05T11:25:54.620Z"
   },
   {
    "duration": 30,
    "start_time": "2021-12-05T11:26:48.623Z"
   },
   {
    "duration": 31,
    "start_time": "2021-12-05T11:26:59.612Z"
   },
   {
    "duration": 33,
    "start_time": "2021-12-05T11:27:15.202Z"
   },
   {
    "duration": 33,
    "start_time": "2021-12-05T11:27:25.365Z"
   },
   {
    "duration": 34,
    "start_time": "2021-12-05T11:29:38.532Z"
   },
   {
    "duration": 30,
    "start_time": "2021-12-05T11:29:56.205Z"
   },
   {
    "duration": 30,
    "start_time": "2021-12-05T11:30:49.276Z"
   },
   {
    "duration": 301,
    "start_time": "2021-12-05T11:33:09.637Z"
   },
   {
    "duration": 31,
    "start_time": "2021-12-05T11:33:16.268Z"
   },
   {
    "duration": 34,
    "start_time": "2021-12-05T11:33:59.110Z"
   },
   {
    "duration": 48,
    "start_time": "2021-12-05T11:43:11.910Z"
   },
   {
    "duration": 78,
    "start_time": "2021-12-05T11:43:57.061Z"
   },
   {
    "duration": 80,
    "start_time": "2021-12-05T11:44:44.645Z"
   },
   {
    "duration": 311,
    "start_time": "2021-12-05T11:51:49.831Z"
   },
   {
    "duration": 35,
    "start_time": "2021-12-05T11:52:01.212Z"
   },
   {
    "duration": 3195,
    "start_time": "2021-12-05T11:54:01.651Z"
   },
   {
    "duration": 88,
    "start_time": "2021-12-05T11:54:25.193Z"
   },
   {
    "duration": 55,
    "start_time": "2021-12-05T11:54:25.284Z"
   },
   {
    "duration": 18,
    "start_time": "2021-12-05T11:54:25.342Z"
   },
   {
    "duration": 100,
    "start_time": "2021-12-05T11:54:25.363Z"
   },
   {
    "duration": 4874,
    "start_time": "2021-12-05T11:54:25.466Z"
   },
   {
    "duration": 4066,
    "start_time": "2021-12-05T11:54:30.343Z"
   },
   {
    "duration": 67,
    "start_time": "2021-12-05T11:54:34.413Z"
   },
   {
    "duration": 76,
    "start_time": "2021-12-05T11:54:34.484Z"
   },
   {
    "duration": 72,
    "start_time": "2021-12-05T11:54:34.563Z"
   },
   {
    "duration": 51,
    "start_time": "2021-12-05T11:54:34.638Z"
   },
   {
    "duration": 3249,
    "start_time": "2021-12-05T11:54:35.047Z"
   },
   {
    "duration": 3148,
    "start_time": "2021-12-05T11:56:22.711Z"
   },
   {
    "duration": 44,
    "start_time": "2021-12-05T12:02:12.309Z"
   },
   {
    "duration": 49,
    "start_time": "2021-12-05T12:03:08.430Z"
   },
   {
    "duration": 307,
    "start_time": "2021-12-06T05:15:27.118Z"
   },
   {
    "duration": 638,
    "start_time": "2021-12-06T05:15:33.669Z"
   },
   {
    "duration": 21,
    "start_time": "2021-12-06T05:15:34.309Z"
   },
   {
    "duration": 58,
    "start_time": "2021-12-06T05:15:34.332Z"
   },
   {
    "duration": 15,
    "start_time": "2021-12-06T05:15:34.392Z"
   },
   {
    "duration": 68,
    "start_time": "2021-12-06T05:15:34.408Z"
   },
   {
    "duration": 3511,
    "start_time": "2021-12-06T05:15:34.478Z"
   },
   {
    "duration": 2854,
    "start_time": "2021-12-06T05:15:37.992Z"
   },
   {
    "duration": 35,
    "start_time": "2021-12-06T05:15:40.848Z"
   },
   {
    "duration": 19,
    "start_time": "2021-12-06T05:15:40.885Z"
   },
   {
    "duration": 46,
    "start_time": "2021-12-06T05:15:40.906Z"
   },
   {
    "duration": 2908,
    "start_time": "2021-12-06T05:15:40.954Z"
   },
   {
    "duration": 33,
    "start_time": "2021-12-06T05:18:09.518Z"
   },
   {
    "duration": 632,
    "start_time": "2021-12-06T05:18:15.580Z"
   },
   {
    "duration": 19,
    "start_time": "2021-12-06T05:18:16.214Z"
   },
   {
    "duration": 47,
    "start_time": "2021-12-06T05:18:16.235Z"
   },
   {
    "duration": 12,
    "start_time": "2021-12-06T05:18:16.284Z"
   },
   {
    "duration": 50,
    "start_time": "2021-12-06T05:18:16.298Z"
   },
   {
    "duration": 44,
    "start_time": "2021-12-06T05:18:16.350Z"
   },
   {
    "duration": 3519,
    "start_time": "2021-12-06T05:18:16.395Z"
   },
   {
    "duration": 3145,
    "start_time": "2021-12-06T05:18:19.916Z"
   },
   {
    "duration": 32,
    "start_time": "2021-12-06T05:18:23.062Z"
   },
   {
    "duration": 30,
    "start_time": "2021-12-06T05:18:23.096Z"
   },
   {
    "duration": 39,
    "start_time": "2021-12-06T05:18:23.128Z"
   },
   {
    "duration": 2849,
    "start_time": "2021-12-06T05:18:23.168Z"
   },
   {
    "duration": 34,
    "start_time": "2021-12-06T05:19:24.844Z"
   },
   {
    "duration": 684,
    "start_time": "2021-12-06T05:20:29.536Z"
   },
   {
    "duration": 20,
    "start_time": "2021-12-06T05:20:30.224Z"
   },
   {
    "duration": 50,
    "start_time": "2021-12-06T05:20:30.246Z"
   },
   {
    "duration": 13,
    "start_time": "2021-12-06T05:20:30.297Z"
   },
   {
    "duration": 57,
    "start_time": "2021-12-06T05:20:30.311Z"
   },
   {
    "duration": 44,
    "start_time": "2021-12-06T05:20:30.370Z"
   },
   {
    "duration": 3557,
    "start_time": "2021-12-06T05:20:30.416Z"
   },
   {
    "duration": 2846,
    "start_time": "2021-12-06T05:20:33.976Z"
   },
   {
    "duration": 40,
    "start_time": "2021-12-06T05:20:36.824Z"
   },
   {
    "duration": 35,
    "start_time": "2021-12-06T05:20:36.866Z"
   },
   {
    "duration": 21,
    "start_time": "2021-12-06T05:20:36.903Z"
   },
   {
    "duration": 50,
    "start_time": "2021-12-06T05:20:36.926Z"
   },
   {
    "duration": 2950,
    "start_time": "2021-12-06T05:20:36.978Z"
   },
   {
    "duration": 6,
    "start_time": "2021-12-06T05:28:15.867Z"
   },
   {
    "duration": 8,
    "start_time": "2021-12-06T05:28:25.849Z"
   },
   {
    "duration": 8,
    "start_time": "2021-12-06T05:30:11.409Z"
   },
   {
    "duration": 220,
    "start_time": "2021-12-06T12:27:16.888Z"
   },
   {
    "duration": 167,
    "start_time": "2021-12-06T12:27:29.564Z"
   },
   {
    "duration": 637,
    "start_time": "2021-12-06T12:27:34.773Z"
   },
   {
    "duration": 18,
    "start_time": "2021-12-06T12:27:35.412Z"
   },
   {
    "duration": 62,
    "start_time": "2021-12-06T12:27:35.432Z"
   },
   {
    "duration": 12,
    "start_time": "2021-12-06T12:27:35.496Z"
   },
   {
    "duration": 32,
    "start_time": "2021-12-06T12:27:35.509Z"
   },
   {
    "duration": 64,
    "start_time": "2021-12-06T12:27:35.542Z"
   },
   {
    "duration": 7,
    "start_time": "2021-12-06T12:27:35.607Z"
   },
   {
    "duration": 3351,
    "start_time": "2021-12-06T12:27:35.615Z"
   },
   {
    "duration": 2790,
    "start_time": "2021-12-06T12:27:38.969Z"
   },
   {
    "duration": 6,
    "start_time": "2021-12-06T12:27:41.761Z"
   },
   {
    "duration": 51,
    "start_time": "2021-12-06T12:27:41.769Z"
   },
   {
    "duration": 19,
    "start_time": "2021-12-06T12:27:41.821Z"
   },
   {
    "duration": 50,
    "start_time": "2021-12-06T12:27:41.842Z"
   },
   {
    "duration": 2927,
    "start_time": "2021-12-06T12:27:41.894Z"
   },
   {
    "duration": 8,
    "start_time": "2021-12-06T12:29:12.091Z"
   },
   {
    "duration": 59,
    "start_time": "2021-12-06T12:30:10.934Z"
   },
   {
    "duration": 11,
    "start_time": "2021-12-06T12:30:14.680Z"
   },
   {
    "duration": 15,
    "start_time": "2021-12-06T12:31:16.144Z"
   },
   {
    "duration": 70,
    "start_time": "2021-12-06T12:34:04.583Z"
   },
   {
    "duration": 897,
    "start_time": "2021-12-06T12:35:03.187Z"
   },
   {
    "duration": 20,
    "start_time": "2021-12-06T12:35:04.085Z"
   },
   {
    "duration": 48,
    "start_time": "2021-12-06T12:35:04.106Z"
   },
   {
    "duration": 12,
    "start_time": "2021-12-06T12:35:04.156Z"
   },
   {
    "duration": 47,
    "start_time": "2021-12-06T12:35:04.170Z"
   },
   {
    "duration": 43,
    "start_time": "2021-12-06T12:35:04.219Z"
   },
   {
    "duration": 7,
    "start_time": "2021-12-06T12:35:04.264Z"
   },
   {
    "duration": 3539,
    "start_time": "2021-12-06T12:35:04.293Z"
   },
   {
    "duration": 3130,
    "start_time": "2021-12-06T12:35:07.834Z"
   },
   {
    "duration": 14,
    "start_time": "2021-12-06T12:35:10.965Z"
   },
   {
    "duration": 38,
    "start_time": "2021-12-06T12:35:10.980Z"
   },
   {
    "duration": 20,
    "start_time": "2021-12-06T12:35:11.019Z"
   },
   {
    "duration": 27,
    "start_time": "2021-12-06T12:35:11.041Z"
   },
   {
    "duration": 2778,
    "start_time": "2021-12-06T12:35:11.069Z"
   }
  ],
  "kernelspec": {
   "display_name": "Python 3 (ipykernel)",
   "language": "python",
   "name": "python3"
  },
  "language_info": {
   "codemirror_mode": {
    "name": "ipython",
    "version": 3
   },
   "file_extension": ".py",
   "mimetype": "text/x-python",
   "name": "python",
   "nbconvert_exporter": "python",
   "pygments_lexer": "ipython3",
   "version": "3.10.1"
  },
  "toc": {
   "base_numbering": 1,
   "nav_menu": {},
   "number_sections": true,
   "sideBar": true,
   "skip_h1_title": true,
   "title_cell": "Table of Contents",
   "title_sidebar": "Contents",
   "toc_cell": false,
   "toc_position": {},
   "toc_section_display": true,
   "toc_window_display": false
  }
 },
 "nbformat": 4,
 "nbformat_minor": 2
}
